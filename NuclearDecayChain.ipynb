# %%capture
# If ffmpeg isn't available in your Colab runtime, uncomment:
# !apt-get -y update && apt-get -y install -y ffmpeg

import numpy as np
import matplotlib.pyplot as plt
from matplotlib.animation import FFMpegWriter
from matplotlib.patches import Rectangle

# =============================
# Canvas / timing (exact pixels)
# =============================
W_PX, H_PX = 1015, 1350   # exact 3:4 tall frame
FPS       = 30
DURATION  = 30.0          # seconds (tweakable)
FRAMES    = int(FPS * DURATION)

# =============================
# Grid & physics
# =============================
ROWS = COLS = 25
N0 = ROWS * COLS

# Decay/absorption rates [1/s]
Gamma1        = 0.8   # Blue -> Gold  + (emit tiny grey)
GammaG        = 0.1   # Gold -> Red   + (emit tiny grey)
Gamma_absorb  = 0.15  # Tiny grey absorption rate (disappear)

tiny_speed = 180.0    # px/s for tiny greys
rng = np.random.default_rng(12345)  # reproducible; change for new randomness

# =============================
# Colors
# =============================
COLOR_BLUE       = "#2a5dbb"  # metallic-ish blue
COLOR_BLUE_EDGE  = "#a9c1ff"
COLOR_GOLD       = "#d4af37"  # gold body
COLOR_GOLD_EDGE  = "#b0b0b0"  # silvery outline
COLOR_RED        = "#8c5a5a"  # greyish red (final, stable)
COLOR_RED_EDGE   = "#5a3e3e"
COLOR_TINY       = "#9e9e9e"  # tiny grey (never turns red)
COLOR_TINY_EDGE  = "#606060"
BG_COLOR         = "#0f0f14"

# =============================
# Figure sized to exact pixels
# =============================
DPI = 100
fig = plt.figure(figsize=(W_PX / DPI, H_PX / DPI), dpi=DPI)
ax = plt.axes([0, 0, 1, 1])
ax.set_xlim(0, W_PX); ax.set_ylim(0, H_PX)
ax.set_aspect('equal'); ax.axis('off')
ax.add_patch(Rectangle((0, 0), W_PX, H_PX, facecolor=BG_COLOR))

# =============================
# Grid layout
# =============================
cell_w, cell_h = W_PX / COLS, H_PX / ROWS
cell_min = min(cell_w, cell_h)

parent_diam = 0.80 * cell_min
tiny_diam   = 0.35 * parent_diam

def pxdiam_to_pts2(d):
    # Matplotlib scatter size is points^2; convert px diameter -> points^2
    return ((d / DPI) * 72.0) ** 2

s_parent = pxdiam_to_pts2(parent_diam)
s_tiny   = pxdiam_to_pts2(tiny_diam)

xs = (np.arange(COLS) + 0.5) * cell_w
ys = (np.arange(ROWS) + 0.5) * cell_h
XX, YY = np.meshgrid(xs, ys[::-1])            # top row on top
centers = np.column_stack([XX.ravel(), YY.ravel()])  # (N0, 2)

# =============================
# Stochastic timelines
# =============================
# Step 1: Blue -> Gold at t1 ~ Exp(Gamma1)
t1 = rng.exponential(1.0 / Gamma1, size=N0)

# Step 2: Gold -> Red at t2 = t1 + Exp(GammaG)
t2 = t1 + rng.exponential(1.0 / GammaG, size=N0)

# Tiny greys emitted at t1 and t2 (one each)
theta1 = rng.uniform(0, 2*np.pi, size=N0)
theta2 = rng.uniform(0, 2*np.pi, size=N0)
v1 = np.column_stack([np.cos(theta1), np.sin(theta1)]) * tiny_speed
v2 = np.column_stack([np.cos(theta2), np.sin(theta2)]) * tiny_speed

# Absorption times for tiny greys
absorb_extra1 = rng.exponential(1.0 / Gamma_absorb, size=N0)
absorb_extra2 = rng.exponential(1.0 / Gamma_absorb, size=N0)
t_absorb1 = t1 + absorb_extra1
t_absorb2 = t2 + absorb_extra2

# Flatten for unified handling of tiny greys (2 per parent)
emit_times   = np.concatenate([t1, t2])                 # (2N0,)
absorb_times = np.concatenate([t_absorb1, t_absorb2])   # (2N0,)
vels         = np.vstack([v1, v2])                      # (2N0, 2)
emit_centers = np.vstack([centers, centers])            # (2N0, 2)

# =============================
# Artists (scatter plots)
# =============================
blue_scatter = ax.scatter(centers[:,0], centers[:,1],
                          s=s_parent, c=COLOR_BLUE,
                          edgecolors=COLOR_BLUE_EDGE, linewidths=0.8)

gold_scatter = ax.scatter([], [], s=s_parent, c=COLOR_GOLD,
                          edgecolors=COLOR_GOLD_EDGE, linewidths=0.9)

red_scatter  = ax.scatter([], [], s=s_parent, c=COLOR_RED,
                          edgecolors=COLOR_RED_EDGE, linewidths=0.9)

tiny_scatter = ax.scatter([], [], s=s_tiny, c=COLOR_TINY,
                          edgecolors=COLOR_TINY_EDGE, linewidths=0.6)

# =============================
# Simulation helpers
# =============================
def frame_state(t):
    """
    Return masks/positions at time t:
      - is_blue:  Blue (not yet decayed)
      - is_gold:  Gold (decayed once, not yet red)
      - is_red:   Red (final)
      - tiny_pos: positions of existing tiny greys (NaNs removed at caller)
      - tiny_exists: boolean mask for existing tiny greys
    """
    is_gold = (t1 <= t) & (t < t2)
    is_red  = (t2 <= t)
    is_blue = ~(is_gold | is_red)

    # Tiny greys exist if emitted and not yet absorbed
    tiny_exists = (emit_times <= t) & (t < absorb_times)

    # Positions for existing tiny greys: r = r_emit + v * (t - t_emit)
    pos = np.full_like(emit_centers, np.nan, dtype=float)
    if np.any(tiny_exists):
        dt = t - emit_times[tiny_exists]
        pos[tiny_exists] = emit_centers[tiny_exists] + vels[tiny_exists] * dt[:, None]

    return is_blue, is_gold, is_red, pos, tiny_exists

def update(frame):
    t = frame / FPS
    is_blue, is_gold, is_red, tiny_pos, tiny_exists = frame_state(t)

    blue_scatter.set_offsets(centers[is_blue])
    gold_scatter.set_offsets(centers[is_gold])
    red_scatter.set_offsets(centers[is_red])

    tiny_scatter.set_offsets(tiny_pos[tiny_exists])  # tiny greys always grey

    # HUD: expected step-1 decays vs realized; and realized reds
    exp_step1 = int(round(N0 * (1.0 - np.exp(-Gamma1 * t))))
    realized_step1 = int((~is_blue).sum())  # gold + red
    realized_red   = int(is_red.sum())
    ax.set_title(
        f"t = {t:5.2f} s | Decayed ≥1x (gold+red): {realized_step1} (exp {exp_step1}) | Final red: {realized_red}",
        color="white", fontsize=12, pad=10
    )

    return (blue_scatter, gold_scatter, red_scatter, tiny_scatter)

# =============================
# Render MP4
# =============================
output = "decay_chain.mp4"
writer = FFMpegWriter(fps=FPS, metadata={'artist': 'Colab'}, bitrate=2400)

with writer.saving(fig, output, DPI):
    for f in range(FRAMES):
        update(f)
        writer.grab_frame()

plt.close(fig)
print(f"Saved: {output}")
